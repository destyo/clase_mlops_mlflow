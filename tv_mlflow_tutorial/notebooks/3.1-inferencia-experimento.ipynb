{
  "cells": [
    {
      "cell_type": "code",
      "execution_count": 2,
      "metadata": {},
      "outputs": [],
      "source": [
        "import requests"
      ]
    },
    {
      "cell_type": "code",
      "execution_count": 3,
      "metadata": {},
      "outputs": [],
      "source": [
        "url = 'http://127.0.0.1:5001/invocations'\n",
        "\n",
        "input_data = {\n",
        "    \"dataframe_split\" :{\n",
        "    \"columns\": ['age', 'sex', 'bmi', 'bp', 's1', 's2', 's3', 's4', 's5','s6'],\n",
        "    \"data\": [ [ 0.03807591,  0.05068012,  0.06169621,  0.02187239, -0.0442235 , -0.03482076, -0.04340085, -0.00259226,  0.01990749, -0.01764613]]\n",
        "    }\n",
        "}"
      ]
    },
    {
      "cell_type": "code",
      "execution_count": 4,
      "metadata": {},
      "outputs": [],
      "source": [
        "resp = requests.post(url, json = input_data)"
      ]
    },
    {
      "cell_type": "code",
      "execution_count": null,
      "metadata": {},
      "outputs": [],
      "source": [
        "resp.text"
      ]
    }
  ],
  "metadata": {
    "kernelspec": {
      "display_name": ".venv",
      "language": "python",
      "name": "python3"
    },
    "language_info": {
      "codemirror_mode": {
        "name": "ipython",
        "version": 3
      },
      "file_extension": ".py",
      "mimetype": "text/x-python",
      "name": "python",
      "nbconvert_exporter": "python",
      "pygments_lexer": "ipython3",
      "version": "3.11.2"
    }
  },
  "nbformat": 4,
  "nbformat_minor": 2
}
