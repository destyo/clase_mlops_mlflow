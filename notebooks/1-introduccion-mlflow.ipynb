{
 "cells": [
  {
   "cell_type": "markdown",
   "metadata": {},
   "source": [
    "# Resumen del Uso de MLflow para Registro de Experimentos\n",
    "\n",
    "Este código ilustra cómo utilizar MLflow, una herramienta esencial para la gestión del ciclo de vida del machine learning, para registrar varios componentes de un experimento:\n",
    "\n",
    "### Funcionalidades Utilizadas\n",
    "\n",
    "- **Registro de Parámetros**: `mlflow.log_param` se emplea para registrar parámetros clave-valor, que son esenciales para la configuración del experimento.\n",
    "\n",
    "- **Registro de Métricas**: `mlflow.log_metric` permite registrar y actualizar métricas a lo largo del experimento. Estas métricas son cruciales para evaluar el rendimiento del modelo.\n",
    "\n",
    "- **Registro de Artefactos**: `mlflow.log_artifact` se usa para registrar archivos como artefactos. Estos pueden ser archivos de texto, imágenes, modelos entrenados, etc., y son importantes para la reproducibilidad y el análisis post-experimento.\n",
    "\n",
    "### Ejemplo de Código\n",
    "\n",
    "```python\n",
    "# Registrar un parámetro (clave-valor)\n",
    "mlflow.log_param(\"param1\", randint(0, 100))\n",
    "\n",
    "# Registrar una métrica; las métricas pueden actualizarse durante la ejecución\n",
    "mlflow.log_metric(\"foo\", random())\n",
    "mlflow.log_metric(\"foo\", random() + 1)\n",
    "mlflow.log_metric(\"foo\", random() + 2)\n",
    "\n",
    "# Registrar un artefacto, un simple archivo de texto\n",
    "mlflow.log_artifact(\"artifacts/text_file.txt\")\n",
    "\n",
    "# Registrar una imagen como artefacto\n",
    "mlflow.log_artifact(\"artifacts/kitten.jpg\")\n"
   ]
  },
  {
   "cell_type": "code",
   "execution_count": 1,
   "metadata": {},
   "outputs": [],
   "source": [
    "import mlflow\n",
    "from random import randint, random"
   ]
  },
  {
   "cell_type": "code",
   "execution_count": 2,
   "metadata": {},
   "outputs": [],
   "source": [
    "# Registrar un parámetro (clave-valor)\n",
    "mlflow.log_param(\"param1\", randint(0, 100))\n",
    "\n",
    "# Registrar una métrica; las métricas pueden actualizarse durante la ejecución\n",
    "mlflow.log_metric(\"foo\", random())\n",
    "mlflow.log_metric(\"foo\", random() + 1)\n",
    "mlflow.log_metric(\"foo\", random() + 2)\n",
    "\n",
    "# Registrar un artefacto, un simple archivo de texto\n",
    "mlflow.log_artifact(\"artifacts/text_file.txt\")\n",
    "\n",
    "# Registrar una imagen\n",
    "mlflow.log_artifact(\"artifacts/kitten.jpg\")"
   ]
  },
  {
   "cell_type": "code",
   "execution_count": null,
   "metadata": {},
   "outputs": [],
   "source": [
    "!mlflow ui"
   ]
  }
 ],
 "metadata": {
  "kernelspec": {
   "display_name": "Python 3 (ipykernel)",
   "language": "python",
   "name": "python3"
  },
  "language_info": {
   "codemirror_mode": {
    "name": "ipython",
    "version": 3
   },
   "file_extension": ".py",
   "mimetype": "text/x-python",
   "name": "python",
   "nbconvert_exporter": "python",
   "pygments_lexer": "ipython3",
   "version": "3.11.2"
  }
 },
 "nbformat": 4,
 "nbformat_minor": 4
}
