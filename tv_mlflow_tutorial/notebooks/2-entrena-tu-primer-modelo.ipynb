{
 "cells": [
  {
   "cell_type": "code",
   "execution_count": 1,
   "metadata": {},
   "outputs": [],
   "source": [
    "import mlflow\n",
    "import pandas as pd\n",
    "import matplotlib.pyplot as plt\n",
    "\n",
    "from sklearn.model_selection import train_test_split\n",
    "from sklearn.datasets import load_diabetes\n",
    " \n",
    "from sklearn.ensemble import RandomForestRegressor\n",
    "from sklearn.metrics import mean_squared_error"
   ]
  },
  {
   "cell_type": "code",
   "execution_count": null,
   "metadata": {},
   "outputs": [],
   "source": [
    "# Vamos a cargar un dataset de juguete para mostrar la creación y entrenamiento basado en experimentos\n",
    "dataset = load_diabetes()"
   ]
  },
  {
   "cell_type": "code",
   "execution_count": null,
   "metadata": {},
   "outputs": [],
   "source": [
    "# Vamos a hacer un split rápido del dataset\n",
    "X = dataset.data\n",
    "y = dataset.target\n",
    "X_train, X_test, y_train, y_test = train_test_split(X, y)"
   ]
  },
  {
   "cell_type": "code",
   "execution_count": null,
   "metadata": {},
   "outputs": [],
   "source": [
    "# La forma recomendada de empezar a usar el seguimiento de MLflow con Python es usar la API autolog() de MLflow.\n",
    "# Con las capacidades de autoregistro de MLflow, una sola línea de código registra automáticamente el modelo resultante, los parámetros usados para crear el modelo y una puntuación del modelo.\n",
    "mlflow.sklearn.autolog()\n",
    "\n",
    "# Esta vez quiero usar un experimento específico\n",
    "mlflow.set_experiment(\"Experimento de ML de Diabetes\")\n",
    "\n",
    "# Con autolog() activado, todos los parámetros del modelo, una puntuación del modelo y el modelo ajustado se registran automáticamente.\n",
    "# También es posible pasar un nombre de ejecución como mlflow.start_run(run_name=\"Mi increíble ejecución\"), de lo contrario, MLflow elegirá uno por nosotros.\n",
    "with mlflow.start_run():\n",
    "  # Establecer los parámetros del modelo.\n",
    "  n_estimators = 100\n",
    "  max_depth = 6\n",
    "  max_features = 3\n",
    "\n",
    "  # Crear y entrenar el modelo.\n",
    "  rf = RandomForestRegressor(n_estimators = n_estimators, max_depth = max_depth, max_features = max_features)\n",
    "  rf.fit(X_train, y_train)\n",
    "\n",
    "  # Usar el modelo para hacer predicciones en el conjunto de datos de prueba.\n",
    "  predictions = rf.predict(X_test)\n",
    "\n",
    "  # Registrar los parámetros del modelo utilizados en esta ejecución.\n",
    "  mlflow.log_param(\"num_trees\", n_estimators)\n",
    "  mlflow.log_param(\"maxdepth\", max_depth)\n",
    "  mlflow.log_param(\"max_feat\", max_features)\n",
    "\n",
    "  # Definir una métrica para evaluar el modelo.\n",
    "  mse = mean_squared_error(y_test, predictions)\n",
    "    \n",
    "  # Registrar el valor de la métrica de esta ejecución.\n",
    "  mlflow.log_metric(\"mse\", mse)\n",
    "\n",
    "  # Convertir los residuos en un dataframe de pandas para aprovechar las capacidades gráficas\n",
    "  df = pd.DataFrame(data = predictions - y_test)\n",
    "  # Crear un gráfico de residuos\n",
    "  plt.plot(df)\n",
    "  plt.xlabel(\"Observación\")\n",
    "  plt.ylabel(\"Residual\")\n",
    "  plt.title(\"Residuos\")\n",
    "\n",
    "  # Guardar la figura del gráfico\n",
    "  fig = plt.gcf()\n",
    "  mlflow.log_figure(fig, \"residuals_plot.png\")\n",
    "\n",
    "mlflow.end_run()"
   ]
  }
 ],
 "metadata": {
  "kernelspec": {
   "display_name": "Python 3 (ipykernel)",
   "language": "python",
   "name": "python3"
  },
  "language_info": {
   "codemirror_mode": {
    "name": "ipython",
    "version": 3
   },
   "file_extension": ".py",
   "mimetype": "text/x-python",
   "name": "python",
   "nbconvert_exporter": "python",
   "pygments_lexer": "ipython3",
   "version": "3.11.2"
  }
 },
 "nbformat": 4,
 "nbformat_minor": 4
}
